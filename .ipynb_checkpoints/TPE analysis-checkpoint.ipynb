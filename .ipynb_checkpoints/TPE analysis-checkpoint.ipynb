{
 "cells": [
  {
   "cell_type": "code",
   "execution_count": 1,
   "metadata": {
    "collapsed": true
   },
   "outputs": [],
   "source": [
    "import pandas as pd\n",
    "import numpy as numpy\n",
    "%matplotlib inline\n",
    "import matplotlib\n",
    "import matplotlib.pyplot as plt"
   ]
  },
  {
   "cell_type": "code",
   "execution_count": 74,
   "metadata": {},
   "outputs": [
    {
     "name": "stdout",
     "output_type": "stream",
     "text": [
      "(242, 27) (242, 27) (457, 27) (457, 27)\n"
     ]
    }
   ],
   "source": [
    "tp104f = pd.read_csv('./Data/104_Taipei_female.csv') \n",
    "tp104m = pd.read_csv('./Data/104_Taipei_male.csv')\n",
    "tp105f = pd.read_csv('./Data/105_Taipei_female.csv') \n",
    "tp105m = pd.read_csv('./Data/105_Taipei_male.csv')\n",
    "\n",
    "print (tp104f.shape, tp104m.shape, tp105f.shape, tp105m.shape)\n",
    "# tp104f['village']\n",
    "# tp105f['village'].value_counts()"
   ]
  },
  {
   "cell_type": "code",
   "execution_count": 45,
   "metadata": {},
   "outputs": [
    {
     "data": {
      "text/html": [
       "<div>\n",
       "<table border=\"1\" class=\"dataframe\">\n",
       "  <thead>\n",
       "    <tr style=\"text-align: right;\">\n",
       "      <th></th>\n",
       "      <th>处理人</th>\n",
       "      <th>处理时间</th>\n",
       "    </tr>\n",
       "    <tr>\n",
       "      <th>流水号</th>\n",
       "      <th></th>\n",
       "      <th></th>\n",
       "    </tr>\n",
       "  </thead>\n",
       "  <tbody>\n",
       "    <tr>\n",
       "      <th>10000</th>\n",
       "      <td>张三,李四,吴八</td>\n",
       "      <td>2016-10-01,2016-10-02,2016-10-03</td>\n",
       "    </tr>\n",
       "    <tr>\n",
       "      <th>10001</th>\n",
       "      <td>王五,黄七</td>\n",
       "      <td>2016-10-01,2016-10-02</td>\n",
       "    </tr>\n",
       "    <tr>\n",
       "      <th>10002</th>\n",
       "      <td>赵六</td>\n",
       "      <td>2016-10-03</td>\n",
       "    </tr>\n",
       "  </tbody>\n",
       "</table>\n",
       "</div>"
      ],
      "text/plain": [
       "            处理人                              处理时间\n",
       "流水号                                              \n",
       "10000  张三,李四,吴八  2016-10-01,2016-10-02,2016-10-03\n",
       "10001     王五,黄七             2016-10-01,2016-10-02\n",
       "10002        赵六                        2016-10-03"
      ]
     },
     "execution_count": 45,
     "metadata": {},
     "output_type": "execute_result"
    }
   ],
   "source": [
    "cols = ['流水号', '处理人', '处理时间']\n",
    "data = [[10000, '张三', '2016-10-01'],\n",
    "        [10000, '李四', '2016-10-02'],\n",
    "        [10001, '王五', '2016-10-01'],\n",
    "        [10002, '赵六', '2016-10-03'],\n",
    "        [10001, '黄七', '2016-10-02'],\n",
    "        [10000, '吴八', '2016-10-03']]\n",
    "frame = pd.DataFrame(data,columns=cols)\n",
    "\n",
    "def combination(names):\n",
    "    return ','.join(names)\n",
    "    \n",
    "frame.groupby('流水号').aggregate(combination)\n"
   ]
  },
  {
   "cell_type": "code",
   "execution_count": 65,
   "metadata": {},
   "outputs": [],
   "source": [
    "gb_tp105f = tp105f\n",
    "gb_tp105f['site_id'].value_counts()\n",
    "\n",
    "gb_tp105f = gb_tp105f.groupby('site_id').aggregate('sum')\n"
   ]
  },
  {
   "cell_type": "code",
   "execution_count": 77,
   "metadata": {},
   "outputs": [
    {
     "data": {
      "text/html": [
       "<div>\n",
       "<table border=\"1\" class=\"dataframe\">\n",
       "  <thead>\n",
       "    <tr style=\"text-align: right;\">\n",
       "      <th></th>\n",
       "      <th>statistic_yyy</th>\n",
       "      <th>site_id</th>\n",
       "      <th>village</th>\n",
       "      <th>edu_age_15up_total</th>\n",
       "      <th>edu_doctor_graduated_f</th>\n",
       "      <th>edu_doctor_ungraduated_f</th>\n",
       "      <th>edu_master_graduated_f</th>\n",
       "      <th>edu_master_ungraduated_f</th>\n",
       "      <th>edu_university_graduated_f</th>\n",
       "      <th>edu_university_ungraduated_f</th>\n",
       "      <th>...</th>\n",
       "      <th>edu_seniorvocational_graduated_f</th>\n",
       "      <th>edu_seniorvocational_ungraduated_f</th>\n",
       "      <th>edu_junior_graduated_f</th>\n",
       "      <th>edu_junior_ungraduated_f</th>\n",
       "      <th>edu_juniorvocational_graduated_f</th>\n",
       "      <th>edu_juniorvocational_ungraduated_f</th>\n",
       "      <th>edu_primary_graduated_f</th>\n",
       "      <th>edu_primary_ungraduated_f</th>\n",
       "      <th>edu_selftaughtl_f</th>\n",
       "      <th>edu_illiterate_f</th>\n",
       "    </tr>\n",
       "  </thead>\n",
       "  <tbody>\n",
       "    <tr>\n",
       "      <th>0</th>\n",
       "      <td>統計年</td>\n",
       "      <td>區域別</td>\n",
       "      <td>村里名稱</td>\n",
       "      <td>總計</td>\n",
       "      <td>博畢_女</td>\n",
       "      <td>博肄_女</td>\n",
       "      <td>碩畢_女</td>\n",
       "      <td>碩肄_女</td>\n",
       "      <td>大畢_女</td>\n",
       "      <td>大肄_女</td>\n",
       "      <td>...</td>\n",
       "      <td>職畢_女</td>\n",
       "      <td>職肄_女</td>\n",
       "      <td>國畢_女</td>\n",
       "      <td>國肄_女</td>\n",
       "      <td>初畢_女</td>\n",
       "      <td>初肄_女</td>\n",
       "      <td>小畢_女</td>\n",
       "      <td>小肄_女</td>\n",
       "      <td>自修_女</td>\n",
       "      <td>不識_女</td>\n",
       "    </tr>\n",
       "  </tbody>\n",
       "</table>\n",
       "<p>1 rows × 27 columns</p>\n",
       "</div>"
      ],
      "text/plain": [
       "  statistic_yyy site_id village edu_age_15up_total edu_doctor_graduated_f  \\\n",
       "0           統計年     區域別    村里名稱                 總計                   博畢_女   \n",
       "\n",
       "  edu_doctor_ungraduated_f edu_master_graduated_f edu_master_ungraduated_f  \\\n",
       "0                     博肄_女                   碩畢_女                     碩肄_女   \n",
       "\n",
       "  edu_university_graduated_f edu_university_ungraduated_f       ...         \\\n",
       "0                       大畢_女                         大肄_女       ...          \n",
       "\n",
       "  edu_seniorvocational_graduated_f edu_seniorvocational_ungraduated_f  \\\n",
       "0                             職畢_女                               職肄_女   \n",
       "\n",
       "  edu_junior_graduated_f edu_junior_ungraduated_f  \\\n",
       "0                   國畢_女                     國肄_女   \n",
       "\n",
       "  edu_juniorvocational_graduated_f edu_juniorvocational_ungraduated_f  \\\n",
       "0                             初畢_女                               初肄_女   \n",
       "\n",
       "  edu_primary_graduated_f edu_primary_ungraduated_f edu_selftaughtl_f  \\\n",
       "0                    小畢_女                      小肄_女              自修_女   \n",
       "\n",
       "  edu_illiterate_f  \n",
       "0             不識_女  \n",
       "\n",
       "[1 rows x 27 columns]"
      ]
     },
     "execution_count": 77,
     "metadata": {},
     "output_type": "execute_result"
    }
   ],
   "source": [
    "tp105f[0:1]"
   ]
  },
  {
   "cell_type": "code",
   "execution_count": 95,
   "metadata": {},
   "outputs": [],
   "source": [
    "simple_h_tp105f = tp105f[['site_id', 'village','edu_doctor_graduated_f','edu_master_graduated_f','edu_university_graduated_f','edu_senior_graduated_f','edu_junior_graduated_f']]\n",
    "# simple_h_tp105f.head()\n",
    "little_school_tp105f =  tp105f[['site_id', 'village','edu_primary_graduated_f','edu_junior_graduated_f']]\n",
    "selfteach_tp105f = tp105f[['site_id', 'village','edu_selftaughtl_f']]"
   ]
  },
  {
   "cell_type": "code",
   "execution_count": null,
   "metadata": {},
   "outputs": [],
   "source": [
    "simple_h_tp105f = simple_h_tp105f.iloc[1:,2:].astype(float)\n",
    "simple_h_tp105f.plot.bar()"
   ]
  },
  {
   "cell_type": "code",
   "execution_count": 94,
   "metadata": {},
   "outputs": [
    {
     "data": {
      "text/plain": [
       "count    456.000000\n",
       "mean       8.000000\n",
       "std        4.999341\n",
       "min        0.000000\n",
       "25%        4.000000\n",
       "50%        7.000000\n",
       "75%       11.000000\n",
       "max       32.000000\n",
       "Name: edu_selftaughtl_f, dtype: float64"
      ]
     },
     "execution_count": 94,
     "metadata": {},
     "output_type": "execute_result"
    }
   ],
   "source": [
    "selfteach_tp105f[1:].edu_selftaughtl_f.astype(float).describe()"
   ]
  },
  {
   "cell_type": "code",
   "execution_count": 62,
   "metadata": {},
   "outputs": [
    {
     "data": {
      "text/plain": [
       "臺北市大安區    53\n",
       "臺北市士林區    51\n",
       "臺北市文山區    43\n",
       "臺北市北投區    42\n",
       "臺北市中山區    42\n",
       "臺北市信義區    41\n",
       "臺北市內湖區    39\n",
       "臺北市萬華區    36\n",
       "臺北市松山區    33\n",
       "臺北市中正區    31\n",
       "臺北市大同區    25\n",
       "臺北市南港區    20\n",
       "區域別        1\n",
       "Name: site_id, dtype: int64"
      ]
     },
     "execution_count": 62,
     "metadata": {},
     "output_type": "execute_result"
    }
   ],
   "source": [
    "tp105m[\"site_id\"].value_counts()\n",
    "#各區有幾個里"
   ]
  },
  {
   "cell_type": "code",
   "execution_count": null,
   "metadata": {},
   "outputs": [],
   "source": []
  },
  {
   "cell_type": "code",
   "execution_count": 9,
   "metadata": {},
   "outputs": [
    {
     "data": {
      "text/html": [
       "<div>\n",
       "<table border=\"1\" class=\"dataframe\">\n",
       "  <thead>\n",
       "    <tr style=\"text-align: right;\">\n",
       "      <th></th>\n",
       "      <th>statistic_yyy</th>\n",
       "      <th>site_id</th>\n",
       "      <th>village</th>\n",
       "      <th>edu_age_15up_total</th>\n",
       "    </tr>\n",
       "  </thead>\n",
       "  <tbody>\n",
       "    <tr>\n",
       "      <th>1</th>\n",
       "      <td>104</td>\n",
       "      <td>臺北市松山區</td>\n",
       "      <td>莊敬里</td>\n",
       "      <td>4977</td>\n",
       "    </tr>\n",
       "    <tr>\n",
       "      <th>2</th>\n",
       "      <td>104</td>\n",
       "      <td>臺北市松山區</td>\n",
       "      <td>東榮里</td>\n",
       "      <td>7114</td>\n",
       "    </tr>\n",
       "    <tr>\n",
       "      <th>3</th>\n",
       "      <td>104</td>\n",
       "      <td>臺北市松山區</td>\n",
       "      <td>三民里</td>\n",
       "      <td>6193</td>\n",
       "    </tr>\n",
       "    <tr>\n",
       "      <th>4</th>\n",
       "      <td>104</td>\n",
       "      <td>臺北市松山區</td>\n",
       "      <td>新益里</td>\n",
       "      <td>4307</td>\n",
       "    </tr>\n",
       "  </tbody>\n",
       "</table>\n",
       "</div>"
      ],
      "text/plain": [
       "  statistic_yyy site_id village edu_age_15up_total\n",
       "1           104  臺北市松山區     莊敬里               4977\n",
       "2           104  臺北市松山區     東榮里               7114\n",
       "3           104  臺北市松山區     三民里               6193\n",
       "4           104  臺北市松山區     新益里               4307"
      ]
     },
     "execution_count": 9,
     "metadata": {},
     "output_type": "execute_result"
    }
   ],
   "source": [
    "tp104f.iloc[1:5,0:4]\n",
    "# tp104f_gradratio = "
   ]
  },
  {
   "cell_type": "code",
   "execution_count": null,
   "metadata": {
    "collapsed": true
   },
   "outputs": [],
   "source": []
  }
 ],
 "metadata": {
  "anaconda-cloud": {},
  "kernelspec": {
   "display_name": "Python [conda root]",
   "language": "python",
   "name": "conda-root-py"
  },
  "language_info": {
   "codemirror_mode": {
    "name": "ipython",
    "version": 3
   },
   "file_extension": ".py",
   "mimetype": "text/x-python",
   "name": "python",
   "nbconvert_exporter": "python",
   "pygments_lexer": "ipython3",
   "version": "3.5.2"
  }
 },
 "nbformat": 4,
 "nbformat_minor": 2
}
